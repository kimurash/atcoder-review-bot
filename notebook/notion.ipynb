{
 "cells": [
  {
   "cell_type": "code",
   "execution_count": 5,
   "metadata": {},
   "outputs": [],
   "source": [
    "import os\n",
    "import logging\n",
    "from pprint import pprint\n",
    "\n",
    "from dotenv import load_dotenv\n",
    "from notion_client import Client"
   ]
  },
  {
   "cell_type": "code",
   "execution_count": null,
   "metadata": {},
   "outputs": [],
   "source": [
    "load_dotenv('../api/routers/.env')"
   ]
  },
  {
   "cell_type": "code",
   "execution_count": 7,
   "metadata": {},
   "outputs": [],
   "source": [
    "client = Client(\n",
    "    auth=os.getenv('NOTION_TOKEN'),\n",
    "    log_level=logging.DEBUG\n",
    ")"
   ]
  },
  {
   "cell_type": "code",
   "execution_count": null,
   "metadata": {},
   "outputs": [],
   "source": [
    "response = client.databases.query(\n",
    "    # 辞書をキーワード引数として渡す\n",
    "    **{\n",
    "        'database_id': os.getenv('NOTION_DB_ID'),\n",
    "        'filter': {\n",
    "            'and': [\n",
    "                {\n",
    "                    'property': 'contest',\n",
    "                    'select': {\n",
    "                        'equals': 'ABC'\n",
    "                    }\n",
    "                },\n",
    "                {\n",
    "                    'or': [\n",
    "                        {\n",
    "                            'property': 'diff',\n",
    "                            'select': {\n",
    "                                'equals': '灰'\n",
    "                            }\n",
    "                        },\n",
    "                        {\n",
    "                            'property': 'diff',\n",
    "                            'select': {\n",
    "                                'equals': '茶'\n",
    "                            }\n",
    "                        },\n",
    "                        {\n",
    "                            'property': 'diff',\n",
    "                            'select': {\n",
    "                                'equals': '緑'\n",
    "                            }\n",
    "                        },\n",
    "                    ]\n",
    "                }\n",
    "            ]\n",
    "        }\n",
    "    }\n",
    ")"
   ]
  },
  {
   "cell_type": "code",
   "execution_count": null,
   "metadata": {},
   "outputs": [],
   "source": [
    "pprint(response)"
   ]
  },
  {
   "cell_type": "code",
   "execution_count": null,
   "metadata": {},
   "outputs": [],
   "source": [
    "cand_tasks = response['results']\n",
    "print(len(cand_tasks))"
   ]
  }
 ],
 "metadata": {
  "kernelspec": {
   "display_name": ".venv",
   "language": "python",
   "name": "python3"
  },
  "language_info": {
   "codemirror_mode": {
    "name": "ipython",
    "version": 3
   },
   "file_extension": ".py",
   "mimetype": "text/x-python",
   "name": "python",
   "nbconvert_exporter": "python",
   "pygments_lexer": "ipython3",
   "version": "3.12.0"
  }
 },
 "nbformat": 4,
 "nbformat_minor": 2
}
